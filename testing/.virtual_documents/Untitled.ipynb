


from gcsa.google_calendar import GoogleCalendar
from gcsa.calendar import Calendar
import time
from datetime import datetime, timedelta





# using the credentials from a past gcal project
gc = GoogleCalendar(credentials_path="/home/jasmine/PROJECTS/hornsync/credentials.json")
gc





wics_id = "k06u9ic0ke0bgoq3n7im2sibsc@group.calendar.google.com"
abb_id = "225cdda94148e6ef2aa3a095ca760d12cef989b31795c2044b9828c5c26f8bc7@group.calendar.google.com"


for event in gc.get_events(calendar_id=wics_id): 
    print(event)


for event in gc.get_events(calendar_id=abb_id): 
    print(event)





TODAY = datetime.today().date()
TODAY


for event in gc.get_events(calendar_id=abb_id, 
                           time_min=TODAY): 
    print(event)


# simulating a user who has selected WICS and ABB as the clubs they are interested in
ORG_DICT = {
    "WICS": wics_id, 
    "ABB": abb_id
}

# the clubs the user has selected
user_clubs = ["WICS", "ABB"]

# list to store ALL events across the user's selected clubs
EVENTS = []

for i, selected_club in enumerate(user_clubs): 
    for event in gc.get_events(calendar_id=ORG_DICT[selected_club]): 
        event.color_id = i
        event.summary = f"[{selected_club}] - {event.summary}"
        EVENTS.append(event)

EVENTS


for e in EVENTS: 
    print(e.color_id)


gc.list_event_colors()


# create consolidated calendar 
consolidated_cal = Calendar("Your Hornsync Clubs", 
                            description="Events for your selected clubs via Hornsync")

consolidated_cal


consolidated_cal = gc.add_calendar(consolidated_cal)
consolidated_cal


for c in gc.get_calendar_list():
    print(c)


for e in EVENTS: 
    gc.import_event(e, calendar_id=c.id)
    # time.sleep(1)


gc.get_calendar().id


c.id


for event in gc.get_events(calendar_id=c.id): 
    print(event)


import streamlit_authenticator as stauth
from authlib.integrations.requests_client import OAuth2Session
import json
from dotenv import load_dotenv
import os
load_dotenv


CLIENT_ID = os.getenv("CLIENT_ID")
CLIENT_SECRET = os.getenv("CLIENT_SECRET")
AUTHORIZATION_URL = "https://accounts.google.com/o/oauth2/auth"
TOKEN_URL = "https://accounts.google.com/o/oauth2/token"
SCOPE = ["https://www.googleapis.com/auth/calendar.readonly"]

# OAuth flow
oauth = OAuth2Session(CLIENT_ID, CLIENT_SECRET, scope=SCOPE)
authorization_url, state = oauth.create_authorization_url(AUTHORIZATION_URL)

# Streamlit interface
st.write("Sign in with your Google account to get started.")
authorization_response = st.text_input("Paste the URL here after sign-in", "")

if authorization_response:
    oauth.fetch_token(TOKEN_URL, authorization_response=authorization_response)

    user_info = oauth.get('https://www.googleapis.com/oauth2/v1/userinfo').json()
    st.write(f"Welcome, {user_info['name']}!")


authorization_url



