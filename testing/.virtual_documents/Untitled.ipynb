


from gcsa.google_calendar import GoogleCalendar
from gcsa.calendar import Calendar
import time
from datetime import datetime, timedelta





# using the credentials from a past gcal project
gc = GoogleCalendar(credentials_path="/home/jasmine/PROJECTS/hornsync/credentials.json")
gc





wics_id = "k06u9ic0ke0bgoq3n7im2sibsc@group.calendar.google.com"
abb_id = "225cdda94148e6ef2aa3a095ca760d12cef989b31795c2044b9828c5c26f8bc7@group.calendar.google.com"


for event in gc.get_events(calendar_id=wics_id): 
    print(event)


for event in gc.get_events(calendar_id=abb_id): 
    print(event)





TODAY = datetime.today().date()
TODAY


for event in gc.get_events(calendar_id=abb_id, 
                           time_min=TODAY): 
    print(event)


# simulating a user who has selected WICS and ABB as the clubs they are interested in
ORG_DICT = {
    "WICS": wics_id, 
    "ABB": abb_id
}

# the clubs the user has selected
user_clubs = ["WICS", "ABB"]

# list to store ALL events across the user's selected clubs
EVENTS = []

for i, selected_club in enumerate(user_clubs): 
    for event in gc.get_events(calendar_id=ORG_DICT[selected_club]): 
        event.color_id = i
        event.summary = f"[{selected_club}] - {event.summary}"
        EVENTS.append(event)

EVENTS


for e in EVENTS: 
    print(e.color_id)


gc.list_event_colors()


# create consolidated calendar 
consolidated_cal = Calendar("Your Hornsync Clubs", 
                            description="Events for your selected clubs via Hornsync")

consolidated_cal


consolidated_cal = gc.add_calendar(consolidated_cal)
consolidated_cal


for c in gc.get_calendar_list():
    print(c)


for e in EVENTS: 
    gc.import_event(e, calendar_id=c.id)
    # time.sleep(1)


gc.get_calendar().id


c.id


for event in gc.get_events(calendar_id=c.id): 
    print(event)


gc.creds


from gcsa.google_calendar import GoogleCalendar
from google.oauth2.credentials import Credentials
from google.auth.transport.requests import Request

# Path to your OAuth 2.0 credentials JSON file
credentials_path = "/home/jasmine/PROJECTS/hornsync/credentials.json"

# Set up GoogleCalendar client with credentials
gc = GoogleCalendar(credentials_path=credentials_path)

# If the credentials have expired, refresh them
if gc.creds and gc.creds.expired and gc.creds.refresh_token:
    gc.creds.refresh(Request())



