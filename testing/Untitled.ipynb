{
 "cells": [
  {
   "cell_type": "markdown",
   "id": "67a7e78a-d1f7-4190-bbde-285db2960184",
   "metadata": {},
   "source": [
    "## Google Calendar API Testing"
   ]
  },
  {
   "cell_type": "code",
   "execution_count": 84,
   "id": "b0aa611f-fac1-4237-808d-c140faef2c06",
   "metadata": {},
   "outputs": [],
   "source": [
    "from gcsa.google_calendar import GoogleCalendar\n",
    "from gcsa.calendar import Calendar\n",
    "import time\n",
    "from datetime import datetime, timedelta"
   ]
  },
  {
   "cell_type": "markdown",
   "id": "4f4fde26-4014-4a33-b185-e9a852355c90",
   "metadata": {},
   "source": [
    "Using the Google Calendar API, I need to figure out some way of: \n",
    "\n",
    "* Based on the user-selected orgs, obtain the Google Calendars of those orgs\n",
    "  * The links to each org's calendar should be stored in a database / CSV of some sort, but it also needs to be updateable on the org's side in case they make a new calendar.\n",
    "* Consolidate the selected calendars into a SINGLE calendar where:\n",
    "  * Each different club's events has a different colors\n",
    "    * But if colors don't work out, definitely label each event w the club name\n",
    "  * The events are SYNCED over time - if a club adds an event to their individual calendar, this should be reflected on the consolidated calendar. I'm actually a bit concerned as to whether this will work out.\n",
    "* Once the calendars have been consolidated, generate a link that the user can add to their Google Calendar (i.e. subscribe to the consolidated calendar) or generate a .ics file - not sure what the difference is tbh. "
   ]
  },
  {
   "cell_type": "code",
   "execution_count": 85,
   "id": "4668bc96-3af8-484d-ab80-60f8dd7144ab",
   "metadata": {},
   "outputs": [
    {
     "data": {
      "text/plain": [
       "<gcsa.google_calendar.GoogleCalendar at 0x76096464d890>"
      ]
     },
     "execution_count": 85,
     "metadata": {},
     "output_type": "execute_result"
    }
   ],
   "source": [
    "# using the credentials from a past gcal project\n",
    "gc = GoogleCalendar(credentials_path=\"/home/jasmine/PROJECTS/hornsync/credentials.json\")\n",
    "gc"
   ]
  },
  {
   "cell_type": "markdown",
   "id": "bd10f913-3cdf-4b80-9793-939d39ac4364",
   "metadata": {},
   "source": [
    "I currently have the WICS gcal and the Austin Bodybuilding gcal. I'll use these as examples."
   ]
  },
  {
   "cell_type": "code",
   "execution_count": 86,
   "id": "97e2a8de-5ce4-41f2-8190-6475647a5fd1",
   "metadata": {},
   "outputs": [],
   "source": [
    "wics_id = \"k06u9ic0ke0bgoq3n7im2sibsc@group.calendar.google.com\"\n",
    "abb_id = \"225cdda94148e6ef2aa3a095ca760d12cef989b31795c2044b9828c5c26f8bc7@group.calendar.google.com\""
   ]
  },
  {
   "cell_type": "code",
   "execution_count": 87,
   "id": "233a274f-d180-408e-888b-fe72d08d3418",
   "metadata": {},
   "outputs": [
    {
     "name": "stdout",
     "output_type": "stream",
     "text": [
      "2025-02-09 08:00:00-06:00 - WiCS Hack 2025 Day 2\n",
      "2025-02-22 10:00:00-06:00 - UT STEM Girl Day Volunteering\n",
      "2025-02-08 08:00:00-06:00 - WiCS Hacks 2025 Day 1\n"
     ]
    }
   ],
   "source": [
    "for event in gc.get_events(calendar_id=wics_id): \n",
    "    print(event)"
   ]
  },
  {
   "cell_type": "code",
   "execution_count": 88,
   "id": "d7770bab-1992-4c3f-8d48-f1a0b3479d8c",
   "metadata": {},
   "outputs": [
    {
     "name": "stdout",
     "output_type": "stream",
     "text": [
      "2024-07-19 - Aidan’s bday\n",
      "2025-01-30 19:00:00-06:00 - General Meeting\n",
      "2025-02-13 19:00:00-06:00 - General Meeting 2\n",
      "2025-02-27 19:00:00-06:00 - General Meeting 3\n",
      "2025-03-13 19:00:00-05:00 - General Meeting 4\n",
      "2025-03-27 19:00:00-05:00 - General Meeting 5\n",
      "2025-04-10 19:00:00-05:00 - General Meeting 6\n",
      "2025-04-24 19:00:00-05:00 - General Meeting 7\n",
      "2025-04-12 21:00:00-05:00 - ABB Formal\n",
      "2025-05-03 11:30:00-05:00 - ABB Barge\n",
      "2025-03-08 22:00:00-06:00 - Mardi Gras Party\n",
      "2025-02-06 - FAMILY CHALLENGE #1\n",
      "2025-02-20 - FAMILY CHALLENGE #1\n",
      "2025-03-06 - FAMILY CHALLENGE #2\n",
      "2025-03-20 - FAMILY CHALLENGE #3\n",
      "2025-04-03 - FAMILY CHALLENGE #4\n",
      "2025-04-17 - FAMILY CHALLENGE #5\n",
      "2025-05-01 - FAMILY CHALLENGE #6\n",
      "2025-03-22 11:00:00-05:00 - Olympics / Field Day w Longhorn Powerlifting DATE TBD, PLACEHOLDER\n",
      "2025-02-15 22:00:00-06:00 - Flex & Flirt Party (Valentine’s)\n",
      "2025-02-12 - Fees Due $45\n",
      "2025-02-13 17:00:00-06:00 - Cabo Bob's Profit Share\n"
     ]
    }
   ],
   "source": [
    "for event in gc.get_events(calendar_id=abb_id): \n",
    "    print(event)"
   ]
  },
  {
   "cell_type": "markdown",
   "id": "ad79ed6f-b058-459f-b313-04ccbcfaac6d",
   "metadata": {},
   "source": [
    "The above seems to fetch all future events? Might be nice if on the user end the user can specify a date range to fetch events from, where the default is for future events but there is the option if you want past events as well."
   ]
  },
  {
   "cell_type": "code",
   "execution_count": 89,
   "id": "5660f758-c738-4e92-9851-37d7f8917a61",
   "metadata": {},
   "outputs": [
    {
     "data": {
      "text/plain": [
       "datetime.date(2025, 2, 8)"
      ]
     },
     "execution_count": 89,
     "metadata": {},
     "output_type": "execute_result"
    }
   ],
   "source": [
    "TODAY = datetime.today().date()\n",
    "TODAY"
   ]
  },
  {
   "cell_type": "code",
   "execution_count": 90,
   "id": "855cc8c1-3b52-4f66-8432-d3d575c59871",
   "metadata": {},
   "outputs": [
    {
     "name": "stdout",
     "output_type": "stream",
     "text": [
      "2024-07-19 - Aidan’s bday\n",
      "2025-01-30 19:00:00-06:00 - General Meeting\n",
      "2025-02-13 19:00:00-06:00 - General Meeting 2\n",
      "2025-02-27 19:00:00-06:00 - General Meeting 3\n",
      "2025-03-13 19:00:00-05:00 - General Meeting 4\n",
      "2025-03-27 19:00:00-05:00 - General Meeting 5\n",
      "2025-04-10 19:00:00-05:00 - General Meeting 6\n",
      "2025-04-24 19:00:00-05:00 - General Meeting 7\n",
      "2025-04-12 21:00:00-05:00 - ABB Formal\n",
      "2025-05-03 11:30:00-05:00 - ABB Barge\n",
      "2025-03-08 22:00:00-06:00 - Mardi Gras Party\n",
      "2025-02-06 - FAMILY CHALLENGE #1\n",
      "2025-02-20 - FAMILY CHALLENGE #1\n",
      "2025-03-06 - FAMILY CHALLENGE #2\n",
      "2025-03-20 - FAMILY CHALLENGE #3\n",
      "2025-04-03 - FAMILY CHALLENGE #4\n",
      "2025-04-17 - FAMILY CHALLENGE #5\n",
      "2025-05-01 - FAMILY CHALLENGE #6\n",
      "2025-03-22 11:00:00-05:00 - Olympics / Field Day w Longhorn Powerlifting DATE TBD, PLACEHOLDER\n",
      "2025-02-15 22:00:00-06:00 - Flex & Flirt Party (Valentine’s)\n",
      "2025-02-12 - Fees Due $45\n",
      "2025-02-13 17:00:00-06:00 - Cabo Bob's Profit Share\n"
     ]
    }
   ],
   "source": [
    "for event in gc.get_events(calendar_id=abb_id, \n",
    "                           time_min=TODAY): \n",
    "    print(event)"
   ]
  },
  {
   "cell_type": "code",
   "execution_count": 100,
   "id": "9323620c-117a-4213-b627-6daaef3d2815",
   "metadata": {},
   "outputs": [
    {
     "data": {
      "text/plain": [
       "[<Event 2025-02-09 08:00:00-06:00 - [WICS] - WiCS Hack 2025 Day 2>,\n",
       " <Event 2025-02-22 10:00:00-06:00 - [WICS] - UT STEM Girl Day Volunteering>,\n",
       " <Event 2025-02-08 08:00:00-06:00 - [WICS] - WiCS Hacks 2025 Day 1>,\n",
       " <Event 2024-07-19 - [ABB] - Aidan’s bday>,\n",
       " <Event 2025-01-30 19:00:00-06:00 - [ABB] - General Meeting>,\n",
       " <Event 2025-02-13 19:00:00-06:00 - [ABB] - General Meeting 2>,\n",
       " <Event 2025-02-27 19:00:00-06:00 - [ABB] - General Meeting 3>,\n",
       " <Event 2025-03-13 19:00:00-05:00 - [ABB] - General Meeting 4>,\n",
       " <Event 2025-03-27 19:00:00-05:00 - [ABB] - General Meeting 5>,\n",
       " <Event 2025-04-10 19:00:00-05:00 - [ABB] - General Meeting 6>,\n",
       " <Event 2025-04-24 19:00:00-05:00 - [ABB] - General Meeting 7>,\n",
       " <Event 2025-04-12 21:00:00-05:00 - [ABB] - ABB Formal>,\n",
       " <Event 2025-05-03 11:30:00-05:00 - [ABB] - ABB Barge>,\n",
       " <Event 2025-03-08 22:00:00-06:00 - [ABB] - Mardi Gras Party>,\n",
       " <Event 2025-02-06 - [ABB] - FAMILY CHALLENGE #1>,\n",
       " <Event 2025-02-20 - [ABB] - FAMILY CHALLENGE #1>,\n",
       " <Event 2025-03-06 - [ABB] - FAMILY CHALLENGE #2>,\n",
       " <Event 2025-03-20 - [ABB] - FAMILY CHALLENGE #3>,\n",
       " <Event 2025-04-03 - [ABB] - FAMILY CHALLENGE #4>,\n",
       " <Event 2025-04-17 - [ABB] - FAMILY CHALLENGE #5>,\n",
       " <Event 2025-05-01 - [ABB] - FAMILY CHALLENGE #6>,\n",
       " <Event 2025-03-22 11:00:00-05:00 - [ABB] - Olympics / Field Day w Longhorn Powerlifting DATE TBD, PLACEHOLDER>,\n",
       " <Event 2025-02-15 22:00:00-06:00 - [ABB] - Flex & Flirt Party (Valentine’s)>,\n",
       " <Event 2025-02-12 - [ABB] - Fees Due $45>,\n",
       " <Event 2025-02-13 17:00:00-06:00 - [ABB] - Cabo Bob's Profit Share>]"
      ]
     },
     "execution_count": 100,
     "metadata": {},
     "output_type": "execute_result"
    }
   ],
   "source": [
    "# simulating a user who has selected WICS and ABB as the clubs they are interested in\n",
    "ORG_DICT = {\n",
    "    \"WICS\": wics_id, \n",
    "    \"ABB\": abb_id\n",
    "}\n",
    "\n",
    "# the clubs the user has selected\n",
    "user_clubs = [\"WICS\", \"ABB\"]\n",
    "\n",
    "# list to store ALL events across the user's selected clubs\n",
    "EVENTS = []\n",
    "\n",
    "for i, selected_club in enumerate(user_clubs): \n",
    "    for event in gc.get_events(calendar_id=ORG_DICT[selected_club]): \n",
    "        event.color_id = i\n",
    "        event.summary = f\"[{selected_club}] - {event.summary}\"\n",
    "        EVENTS.append(event)\n",
    "\n",
    "EVENTS"
   ]
  },
  {
   "cell_type": "code",
   "execution_count": 101,
   "id": "526c4dfb-5696-4e5b-8dac-90ad285efee2",
   "metadata": {},
   "outputs": [
    {
     "name": "stdout",
     "output_type": "stream",
     "text": [
      "0\n",
      "0\n",
      "0\n",
      "1\n",
      "1\n",
      "1\n",
      "1\n",
      "1\n",
      "1\n",
      "1\n",
      "1\n",
      "1\n",
      "1\n",
      "1\n",
      "1\n",
      "1\n",
      "1\n",
      "1\n",
      "1\n",
      "1\n",
      "1\n",
      "1\n",
      "1\n",
      "1\n",
      "1\n"
     ]
    }
   ],
   "source": [
    "for e in EVENTS: \n",
    "    print(e.color_id)"
   ]
  },
  {
   "cell_type": "code",
   "execution_count": 102,
   "id": "641f5c4b-66f1-48d1-b3e6-4ef5c6122128",
   "metadata": {},
   "outputs": [
    {
     "data": {
      "text/plain": [
       "{'1': {'background': '#a4bdfc', 'foreground': '#1d1d1d'},\n",
       " '2': {'background': '#7ae7bf', 'foreground': '#1d1d1d'},\n",
       " '3': {'background': '#dbadff', 'foreground': '#1d1d1d'},\n",
       " '4': {'background': '#ff887c', 'foreground': '#1d1d1d'},\n",
       " '5': {'background': '#fbd75b', 'foreground': '#1d1d1d'},\n",
       " '6': {'background': '#ffb878', 'foreground': '#1d1d1d'},\n",
       " '7': {'background': '#46d6db', 'foreground': '#1d1d1d'},\n",
       " '8': {'background': '#e1e1e1', 'foreground': '#1d1d1d'},\n",
       " '9': {'background': '#5484ed', 'foreground': '#1d1d1d'},\n",
       " '10': {'background': '#51b749', 'foreground': '#1d1d1d'},\n",
       " '11': {'background': '#dc2127', 'foreground': '#1d1d1d'}}"
      ]
     },
     "execution_count": 102,
     "metadata": {},
     "output_type": "execute_result"
    }
   ],
   "source": [
    "gc.list_event_colors()"
   ]
  },
  {
   "cell_type": "code",
   "execution_count": 103,
   "id": "957819d9-08d2-4ab3-b69f-8aa4793a3a7c",
   "metadata": {},
   "outputs": [
    {
     "data": {
      "text/plain": [
       "<Calendar Your Hornsync Clubs - Events for your selected clubs via Hornsync>"
      ]
     },
     "execution_count": 103,
     "metadata": {},
     "output_type": "execute_result"
    }
   ],
   "source": [
    "# create consolidated calendar \n",
    "consolidated_cal = Calendar(\"Your Hornsync Clubs\", \n",
    "                            description=\"Events for your selected clubs via Hornsync\")\n",
    "\n",
    "consolidated_cal"
   ]
  },
  {
   "cell_type": "code",
   "execution_count": 104,
   "id": "861c072c-a8a9-42bb-b342-7af11f8ef5bf",
   "metadata": {},
   "outputs": [
    {
     "data": {
      "text/plain": [
       "<Calendar Your Hornsync Clubs - Events for your selected clubs via Hornsync>"
      ]
     },
     "execution_count": 104,
     "metadata": {},
     "output_type": "execute_result"
    }
   ],
   "source": [
    "consolidated_cal = gc.add_calendar(consolidated_cal)\n",
    "consolidated_cal"
   ]
  },
  {
   "cell_type": "code",
   "execution_count": 105,
   "id": "026605a7-03b2-4511-9075-af2e656b6901",
   "metadata": {},
   "outputs": [
    {
     "name": "stdout",
     "output_type": "stream",
     "text": [
      "None - (Holidays in China)\n",
      "iCloud - (jasminexu7003@icloud.com)\n",
      "Celtics - (Boston Celtics 2023-24 Schedule)\n",
      "Texas MBB - (Men's Basketball - texassports.com)\n",
      "Texas Volleyball - (Volleyball - texassports.com)\n",
      "Texas Football - (Football - texassports.com)\n",
      "None - (Footy/Games)\n",
      "None - (Premier League)\n",
      "None - (Austin Bodybuilding)\n",
      "None - (WiCS Events)\n",
      "None - (Spurs games)\n",
      "None - (School)\n",
      "None - (Classes)\n",
      "None - (Blocks)\n",
      "None - (Birthdays)\n",
      "None - (jasminexu@utexas.edu)\n",
      "None - (Holidays in United States)\n",
      "None - (Your Hornsync Clubs)\n"
     ]
    }
   ],
   "source": [
    "for c in gc.get_calendar_list():\n",
    "    print(c)"
   ]
  },
  {
   "cell_type": "code",
   "execution_count": 106,
   "id": "6a728862-686c-4577-9561-a9701dfca5e2",
   "metadata": {},
   "outputs": [],
   "source": [
    "for e in EVENTS: \n",
    "    gc.import_event(e, calendar_id=c.id)\n",
    "    # time.sleep(1)"
   ]
  },
  {
   "cell_type": "code",
   "execution_count": 71,
   "id": "ca21fd2c-dd82-43aa-b4b8-a059549d8001",
   "metadata": {},
   "outputs": [
    {
     "data": {
      "text/plain": [
       "'jasminexu@utexas.edu'"
      ]
     },
     "execution_count": 71,
     "metadata": {},
     "output_type": "execute_result"
    }
   ],
   "source": [
    "gc.get_calendar().id"
   ]
  },
  {
   "cell_type": "code",
   "execution_count": 72,
   "id": "bc312314-bb30-4cef-96cd-b7e6fbe99534",
   "metadata": {},
   "outputs": [
    {
     "data": {
      "text/plain": [
       "'c_cfa9c1e996673fb09fb5159a9edfd261af275123343126a877c488e849ccedcb@group.calendar.google.com'"
      ]
     },
     "execution_count": 72,
     "metadata": {},
     "output_type": "execute_result"
    }
   ],
   "source": [
    "c.id"
   ]
  },
  {
   "cell_type": "code",
   "execution_count": 98,
   "id": "f6e54db8-b2e6-41ea-97ef-f69fb7b60b62",
   "metadata": {},
   "outputs": [
    {
     "name": "stdout",
     "output_type": "stream",
     "text": [
      "2025-02-13 19:00:00-06:00 - General Meeting 2\n",
      "2025-02-27 19:00:00-06:00 - General Meeting 3\n",
      "2025-03-13 19:00:00-05:00 - General Meeting 4\n",
      "2025-03-27 19:00:00-05:00 - General Meeting 5\n",
      "2025-04-10 19:00:00-05:00 - General Meeting 6\n",
      "2025-04-24 19:00:00-05:00 - General Meeting 7\n",
      "2025-04-12 21:00:00-05:00 - ABB Formal\n",
      "2025-05-03 11:30:00-05:00 - ABB Barge\n",
      "2025-03-08 22:00:00-06:00 - Mardi Gras Party\n",
      "2025-02-06 - FAMILY CHALLENGE #1\n",
      "2025-02-20 - FAMILY CHALLENGE #1\n",
      "2025-03-06 - FAMILY CHALLENGE #2\n",
      "2025-03-20 - FAMILY CHALLENGE #3\n",
      "2025-04-03 - FAMILY CHALLENGE #4\n",
      "2025-04-17 - FAMILY CHALLENGE #5\n",
      "2025-05-01 - FAMILY CHALLENGE #6\n",
      "2025-03-22 11:00:00-05:00 - Olympics / Field Day w Longhorn Powerlifting DATE TBD, PLACEHOLDER\n",
      "2025-02-15 22:00:00-06:00 - Flex & Flirt Party (Valentine’s)\n",
      "2025-02-12 - Fees Due $45\n",
      "2025-02-13 17:00:00-06:00 - Cabo Bob's Profit Share\n"
     ]
    }
   ],
   "source": [
    "for event in gc.get_events(calendar_id=c.id): \n",
    "    print(event)"
   ]
  },
  {
   "cell_type": "code",
   "execution_count": 78,
   "id": "aab3bfcf-c4b9-4b06-b9c5-44b269b75c1b",
   "metadata": {},
   "outputs": [
    {
     "ename": "AttributeError",
     "evalue": "'GoogleCalendar' object has no attribute 'creds'",
     "output_type": "error",
     "traceback": [
      "\u001b[0;31m---------------------------------------------------------------------------\u001b[0m",
      "\u001b[0;31mAttributeError\u001b[0m                            Traceback (most recent call last)",
      "Cell \u001b[0;32mIn[78], line 1\u001b[0m\n\u001b[0;32m----> 1\u001b[0m gc\u001b[38;5;241m.\u001b[39mcreds\n",
      "\u001b[0;31mAttributeError\u001b[0m: 'GoogleCalendar' object has no attribute 'creds'"
     ]
    }
   ],
   "source": [
    "gc.creds"
   ]
  },
  {
   "cell_type": "code",
   "execution_count": 79,
   "id": "2aa549c1-419f-47c8-a484-efffcb9b2a76",
   "metadata": {},
   "outputs": [
    {
     "ename": "AttributeError",
     "evalue": "'GoogleCalendar' object has no attribute 'creds'",
     "output_type": "error",
     "traceback": [
      "\u001b[0;31m---------------------------------------------------------------------------\u001b[0m",
      "\u001b[0;31mAttributeError\u001b[0m                            Traceback (most recent call last)",
      "Cell \u001b[0;32mIn[79], line 12\u001b[0m\n\u001b[1;32m      9\u001b[0m gc \u001b[38;5;241m=\u001b[39m GoogleCalendar(credentials_path\u001b[38;5;241m=\u001b[39mcredentials_path)\n\u001b[1;32m     11\u001b[0m \u001b[38;5;66;03m# If the credentials have expired, refresh them\u001b[39;00m\n\u001b[0;32m---> 12\u001b[0m \u001b[38;5;28;01mif\u001b[39;00m gc\u001b[38;5;241m.\u001b[39mcreds \u001b[38;5;129;01mand\u001b[39;00m gc\u001b[38;5;241m.\u001b[39mcreds\u001b[38;5;241m.\u001b[39mexpired \u001b[38;5;129;01mand\u001b[39;00m gc\u001b[38;5;241m.\u001b[39mcreds\u001b[38;5;241m.\u001b[39mrefresh_token:\n\u001b[1;32m     13\u001b[0m     gc\u001b[38;5;241m.\u001b[39mcreds\u001b[38;5;241m.\u001b[39mrefresh(Request())\n",
      "\u001b[0;31mAttributeError\u001b[0m: 'GoogleCalendar' object has no attribute 'creds'"
     ]
    }
   ],
   "source": [
    "from gcsa.google_calendar import GoogleCalendar\n",
    "from google.oauth2.credentials import Credentials\n",
    "from google.auth.transport.requests import Request\n",
    "\n",
    "# Path to your OAuth 2.0 credentials JSON file\n",
    "credentials_path = \"/home/jasmine/PROJECTS/hornsync/credentials.json\"\n",
    "\n",
    "# Set up GoogleCalendar client with credentials\n",
    "gc = GoogleCalendar(credentials_path=credentials_path)\n",
    "\n",
    "# If the credentials have expired, refresh them\n",
    "if gc.creds and gc.creds.expired and gc.creds.refresh_token:\n",
    "    gc.creds.refresh(Request())"
   ]
  },
  {
   "cell_type": "code",
   "execution_count": null,
   "id": "c5d9a564-9a45-4693-9b31-f55d8ccc3477",
   "metadata": {},
   "outputs": [],
   "source": []
  }
 ],
 "metadata": {
  "kernelspec": {
   "display_name": "Python 3 (ipykernel)",
   "language": "python",
   "name": "python3"
  },
  "language_info": {
   "codemirror_mode": {
    "name": "ipython",
    "version": 3
   },
   "file_extension": ".py",
   "mimetype": "text/x-python",
   "name": "python",
   "nbconvert_exporter": "python",
   "pygments_lexer": "ipython3",
   "version": "3.11.5"
  }
 },
 "nbformat": 4,
 "nbformat_minor": 5
}
