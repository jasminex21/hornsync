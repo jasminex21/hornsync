{
 "cells": [
  {
   "cell_type": "code",
   "execution_count": 21,
   "metadata": {},
   "outputs": [],
   "source": [
    "import pandas as pd\n",
    "import numpy as np"
   ]
  },
  {
   "cell_type": "code",
   "execution_count": 1,
   "metadata": {},
   "outputs": [],
   "source": [
    "ORGS_INFO = [{'Logo': 'https://ugc.production.linktr.ee/0114a22c-cc95-42af-9cf8-0d9af874a026_Untitled-design.png?io=true&size=avatar-v3_0', \n",
    "             'Name': 'Austin Bodybuilding (ABB)', 'Categories': ['Fitness', 'Social'], 'Description': 'A community of bodybuilders, gym-goers, and like-minded people!'}, \n",
    "             {'Logo': 'https://www.txconvergent.org/static/media/logo.4f3c2372.png', \n",
    "             'Name': 'Texas Convergent', 'Categories': ['Computer Science', 'Technology'], 'Description': 'Texas Convergent is an entrepreneurial, product-building organization at UT Austin. We provide students the necessary skills and resources to drive the future of innovation through a hands-on, project-based curriculum.'}, \n",
    "             {'Logo': 'https://lh3.googleusercontent.com/z6m1_-gQz8GmTdidDebdEncGMXp3zUCAA4S9cnnpFo_-IE87b6FSofSfNZxKGvQvbb9mS6jzifh2IO3V53rniCD3vhphmebMMkgLlygtH2fe8JrcQd2ib-1WVHhWkZv2Lw=w1280', 'Name': 'Machine Learning and Data Science Club (MLDS)', 'Categories': ['Computer Science', 'Technology'], 'Description': 'We promote data science and machine learning through our general meetings every Tuesday at 7 pm. These meetings include technical workshops, career advice, industry speakers, and socials. We also host the Deep Learning Workshop Series, Long Competition, and Datahack.'}, {'Logo': 'https://www.cs.utexas.edu/~wics/images/wicslogo24.png', 'Name': 'Women in Computer Science (WICS)', 'Categories': ['Computer Science', 'Technology'], 'Description': 'Women in Computer Science is a non-profit organization dedicated to building a community of women in Computer Science.'}]"
   ]
  },
  {
   "cell_type": "code",
   "execution_count": 2,
   "metadata": {},
   "outputs": [
    {
     "data": {
      "text/plain": [
       "[{'Logo': 'https://ugc.production.linktr.ee/0114a22c-cc95-42af-9cf8-0d9af874a026_Untitled-design.png?io=true&size=avatar-v3_0',\n",
       "  'Name': 'Austin Bodybuilding (ABB)',\n",
       "  'Categories': ['Fitness', 'Social'],\n",
       "  'Description': 'A community of bodybuilders, gym-goers, and like-minded people!'},\n",
       " {'Logo': 'https://www.txconvergent.org/static/media/logo.4f3c2372.png',\n",
       "  'Name': 'Texas Convergent',\n",
       "  'Categories': ['Computer Science', 'Technology'],\n",
       "  'Description': 'Texas Convergent is an entrepreneurial, product-building organization at UT Austin. We provide students the necessary skills and resources to drive the future of innovation through a hands-on, project-based curriculum.'},\n",
       " {'Logo': 'https://lh3.googleusercontent.com/z6m1_-gQz8GmTdidDebdEncGMXp3zUCAA4S9cnnpFo_-IE87b6FSofSfNZxKGvQvbb9mS6jzifh2IO3V53rniCD3vhphmebMMkgLlygtH2fe8JrcQd2ib-1WVHhWkZv2Lw=w1280',\n",
       "  'Name': 'Machine Learning and Data Science Club (MLDS)',\n",
       "  'Categories': ['Computer Science', 'Technology'],\n",
       "  'Description': 'We promote data science and machine learning through our general meetings every Tuesday at 7 pm. These meetings include technical workshops, career advice, industry speakers, and socials. We also host the Deep Learning Workshop Series, Long Competition, and Datahack.'},\n",
       " {'Logo': 'https://www.cs.utexas.edu/~wics/images/wicslogo24.png',\n",
       "  'Name': 'Women in Computer Science (WICS)',\n",
       "  'Categories': ['Computer Science', 'Technology'],\n",
       "  'Description': 'Women in Computer Science is a non-profit organization dedicated to building a community of women in Computer Science.'}]"
      ]
     },
     "execution_count": 2,
     "metadata": {},
     "output_type": "execute_result"
    }
   ],
   "source": [
    "ORGS_INFO"
   ]
  },
  {
   "cell_type": "code",
   "execution_count": 6,
   "metadata": {},
   "outputs": [
    {
     "data": {
      "text/plain": [
       "[0.25, 0.5, 0.5, 0.5]"
      ]
     },
     "execution_count": 6,
     "metadata": {},
     "output_type": "execute_result"
    }
   ],
   "source": [
    "pcts = []\n",
    "\n",
    "for org in ORGS_INFO: \n",
    "    org_cats = set(org[\"Categories\"])\n",
    "    common = my_interests.intersection(org_cats)\n",
    "    pcts.append(len(common) / len(my_interests))\n",
    "\n",
    "pcts"
   ]
  },
  {
   "cell_type": "markdown",
   "metadata": {},
   "source": [
    "I'd like to also incorporate more semantics when it comes to recommendaions, bc simply doing an intersection is a bit lame. I added club descriptions to the dataset as well, so I can use those in the recommendations."
   ]
  },
  {
   "cell_type": "code",
   "execution_count": 7,
   "metadata": {},
   "outputs": [],
   "source": [
    "from sklearn.feature_extraction.text import TfidfVectorizer\n",
    "from sklearn.metrics.pairwise import cosine_similarity"
   ]
  },
  {
   "cell_type": "code",
   "execution_count": 8,
   "metadata": {},
   "outputs": [
    {
     "data": {
      "text/plain": [
       "['A community of bodybuilders, gym-goers, and like-minded people!',\n",
       " 'Texas Convergent is an entrepreneurial, product-building organization at UT Austin. We provide students the necessary skills and resources to drive the future of innovation through a hands-on, project-based curriculum.',\n",
       " 'We promote data science and machine learning through our general meetings every Tuesday at 7 pm. These meetings include technical workshops, career advice, industry speakers, and socials. We also host the Deep Learning Workshop Series, Long Competition, and Datahack.',\n",
       " 'Women in Computer Science is a non-profit organization dedicated to building a community of women in Computer Science.']"
      ]
     },
     "execution_count": 8,
     "metadata": {},
     "output_type": "execute_result"
    }
   ],
   "source": [
    "org_descriptions = [org[\"Description\"] for org in ORGS_INFO]\n",
    "org_descriptions"
   ]
  },
  {
   "cell_type": "code",
   "execution_count": 10,
   "metadata": {},
   "outputs": [
    {
     "data": {
      "text/plain": [
       "'Computer Science Fitness Biological Sciences Technology'"
      ]
     },
     "execution_count": 10,
     "metadata": {},
     "output_type": "execute_result"
    }
   ],
   "source": [
    "student_interest_text = \" \".join(my_interests)\n",
    "student_interest_text"
   ]
  },
  {
   "cell_type": "code",
   "execution_count": 11,
   "metadata": {},
   "outputs": [
    {
     "data": {
      "text/plain": [
       "['Computer Science Fitness Biological Sciences Technology',\n",
       " 'A community of bodybuilders, gym-goers, and like-minded people!',\n",
       " 'Texas Convergent is an entrepreneurial, product-building organization at UT Austin. We provide students the necessary skills and resources to drive the future of innovation through a hands-on, project-based curriculum.',\n",
       " 'We promote data science and machine learning through our general meetings every Tuesday at 7 pm. These meetings include technical workshops, career advice, industry speakers, and socials. We also host the Deep Learning Workshop Series, Long Competition, and Datahack.',\n",
       " 'Women in Computer Science is a non-profit organization dedicated to building a community of women in Computer Science.']"
      ]
     },
     "execution_count": 11,
     "metadata": {},
     "output_type": "execute_result"
    }
   ],
   "source": [
    "documents = [student_interest_text] + org_descriptions\n",
    "documents"
   ]
  },
  {
   "cell_type": "code",
   "execution_count": 12,
   "metadata": {},
   "outputs": [
    {
     "data": {
      "text/html": [
       "<style>#sk-container-id-1 {color: black;background-color: white;}#sk-container-id-1 pre{padding: 0;}#sk-container-id-1 div.sk-toggleable {background-color: white;}#sk-container-id-1 label.sk-toggleable__label {cursor: pointer;display: block;width: 100%;margin-bottom: 0;padding: 0.3em;box-sizing: border-box;text-align: center;}#sk-container-id-1 label.sk-toggleable__label-arrow:before {content: \"▸\";float: left;margin-right: 0.25em;color: #696969;}#sk-container-id-1 label.sk-toggleable__label-arrow:hover:before {color: black;}#sk-container-id-1 div.sk-estimator:hover label.sk-toggleable__label-arrow:before {color: black;}#sk-container-id-1 div.sk-toggleable__content {max-height: 0;max-width: 0;overflow: hidden;text-align: left;background-color: #f0f8ff;}#sk-container-id-1 div.sk-toggleable__content pre {margin: 0.2em;color: black;border-radius: 0.25em;background-color: #f0f8ff;}#sk-container-id-1 input.sk-toggleable__control:checked~div.sk-toggleable__content {max-height: 200px;max-width: 100%;overflow: auto;}#sk-container-id-1 input.sk-toggleable__control:checked~label.sk-toggleable__label-arrow:before {content: \"▾\";}#sk-container-id-1 div.sk-estimator input.sk-toggleable__control:checked~label.sk-toggleable__label {background-color: #d4ebff;}#sk-container-id-1 div.sk-label input.sk-toggleable__control:checked~label.sk-toggleable__label {background-color: #d4ebff;}#sk-container-id-1 input.sk-hidden--visually {border: 0;clip: rect(1px 1px 1px 1px);clip: rect(1px, 1px, 1px, 1px);height: 1px;margin: -1px;overflow: hidden;padding: 0;position: absolute;width: 1px;}#sk-container-id-1 div.sk-estimator {font-family: monospace;background-color: #f0f8ff;border: 1px dotted black;border-radius: 0.25em;box-sizing: border-box;margin-bottom: 0.5em;}#sk-container-id-1 div.sk-estimator:hover {background-color: #d4ebff;}#sk-container-id-1 div.sk-parallel-item::after {content: \"\";width: 100%;border-bottom: 1px solid gray;flex-grow: 1;}#sk-container-id-1 div.sk-label:hover label.sk-toggleable__label {background-color: #d4ebff;}#sk-container-id-1 div.sk-serial::before {content: \"\";position: absolute;border-left: 1px solid gray;box-sizing: border-box;top: 0;bottom: 0;left: 50%;z-index: 0;}#sk-container-id-1 div.sk-serial {display: flex;flex-direction: column;align-items: center;background-color: white;padding-right: 0.2em;padding-left: 0.2em;position: relative;}#sk-container-id-1 div.sk-item {position: relative;z-index: 1;}#sk-container-id-1 div.sk-parallel {display: flex;align-items: stretch;justify-content: center;background-color: white;position: relative;}#sk-container-id-1 div.sk-item::before, #sk-container-id-1 div.sk-parallel-item::before {content: \"\";position: absolute;border-left: 1px solid gray;box-sizing: border-box;top: 0;bottom: 0;left: 50%;z-index: -1;}#sk-container-id-1 div.sk-parallel-item {display: flex;flex-direction: column;z-index: 1;position: relative;background-color: white;}#sk-container-id-1 div.sk-parallel-item:first-child::after {align-self: flex-end;width: 50%;}#sk-container-id-1 div.sk-parallel-item:last-child::after {align-self: flex-start;width: 50%;}#sk-container-id-1 div.sk-parallel-item:only-child::after {width: 0;}#sk-container-id-1 div.sk-dashed-wrapped {border: 1px dashed gray;margin: 0 0.4em 0.5em 0.4em;box-sizing: border-box;padding-bottom: 0.4em;background-color: white;}#sk-container-id-1 div.sk-label label {font-family: monospace;font-weight: bold;display: inline-block;line-height: 1.2em;}#sk-container-id-1 div.sk-label-container {text-align: center;}#sk-container-id-1 div.sk-container {/* jupyter's `normalize.less` sets `[hidden] { display: none; }` but bootstrap.min.css set `[hidden] { display: none !important; }` so we also need the `!important` here to be able to override the default hidden behavior on the sphinx rendered scikit-learn.org. See: https://github.com/scikit-learn/scikit-learn/issues/21755 */display: inline-block !important;position: relative;}#sk-container-id-1 div.sk-text-repr-fallback {display: none;}</style><div id=\"sk-container-id-1\" class=\"sk-top-container\"><div class=\"sk-text-repr-fallback\"><pre>TfidfVectorizer(stop_words=&#x27;english&#x27;)</pre><b>In a Jupyter environment, please rerun this cell to show the HTML representation or trust the notebook. <br />On GitHub, the HTML representation is unable to render, please try loading this page with nbviewer.org.</b></div><div class=\"sk-container\" hidden><div class=\"sk-item\"><div class=\"sk-estimator sk-toggleable\"><input class=\"sk-toggleable__control sk-hidden--visually\" id=\"sk-estimator-id-1\" type=\"checkbox\" checked><label for=\"sk-estimator-id-1\" class=\"sk-toggleable__label sk-toggleable__label-arrow\">TfidfVectorizer</label><div class=\"sk-toggleable__content\"><pre>TfidfVectorizer(stop_words=&#x27;english&#x27;)</pre></div></div></div></div></div>"
      ],
      "text/plain": [
       "TfidfVectorizer(stop_words='english')"
      ]
     },
     "execution_count": 12,
     "metadata": {},
     "output_type": "execute_result"
    }
   ],
   "source": [
    "vectorizer = TfidfVectorizer(stop_words='english')\n",
    "vectorizer"
   ]
  },
  {
   "cell_type": "code",
   "execution_count": 14,
   "metadata": {},
   "outputs": [
    {
     "name": "stdout",
     "output_type": "stream",
     "text": [
      "  (0, 53)\t0.4428321995085722\n",
      "  (0, 46)\t0.4428321995085722\n",
      "  (0, 3)\t0.4428321995085722\n",
      "  (0, 18)\t0.4428321995085722\n",
      "  (0, 45)\t0.2965698850220162\n",
      "  (0, 9)\t0.35727423026525224\n",
      "  (1, 37)\t0.38775666010579296\n",
      "  (1, 33)\t0.38775666010579296\n",
      "  (1, 29)\t0.38775666010579296\n",
      "  (1, 21)\t0.38775666010579296\n",
      "  (1, 22)\t0.38775666010579296\n",
      "  (1, 4)\t0.38775666010579296\n",
      "  (1, 7)\t0.3128396318588854\n",
      "  (2, 11)\t0.22761492325233004\n",
      "  (2, 2)\t0.22761492325233004\n",
      "  (2, 41)\t0.22761492325233004\n",
      "  (2, 23)\t0.22761492325233004\n",
      "  (2, 27)\t0.22761492325233004\n",
      "  (2, 19)\t0.22761492325233004\n",
      "  (2, 16)\t0.22761492325233004\n",
      "  (2, 44)\t0.22761492325233004\n",
      "  (2, 48)\t0.22761492325233004\n",
      "  (2, 34)\t0.22761492325233004\n",
      "  (2, 51)\t0.22761492325233004\n",
      "  (2, 43)\t0.22761492325233004\n",
      "  :\t:\n",
      "  (3, 50)\t0.1842758019271211\n",
      "  (3, 26)\t0.1842758019271211\n",
      "  (3, 0)\t0.1842758019271211\n",
      "  (3, 6)\t0.1842758019271211\n",
      "  (3, 59)\t0.1842758019271211\n",
      "  (3, 52)\t0.1842758019271211\n",
      "  (3, 25)\t0.1842758019271211\n",
      "  (3, 38)\t0.1842758019271211\n",
      "  (3, 55)\t0.1842758019271211\n",
      "  (3, 32)\t0.3685516038542422\n",
      "  (3, 20)\t0.1842758019271211\n",
      "  (3, 28)\t0.3685516038542422\n",
      "  (3, 31)\t0.1842758019271211\n",
      "  (3, 12)\t0.1842758019271211\n",
      "  (3, 42)\t0.1842758019271211\n",
      "  (3, 45)\t0.12341165220260417\n",
      "  (4, 14)\t0.27368548516126867\n",
      "  (4, 40)\t0.27368548516126867\n",
      "  (4, 35)\t0.27368548516126867\n",
      "  (4, 57)\t0.5473709703225373\n",
      "  (4, 36)\t0.2208077261641665\n",
      "  (4, 5)\t0.2208077261641665\n",
      "  (4, 7)\t0.2208077261641665\n",
      "  (4, 45)\t0.3665807181887231\n",
      "  (4, 9)\t0.441615452328333\n"
     ]
    }
   ],
   "source": [
    "tfidf_matrix = vectorizer.fit_transform(documents)\n",
    "print(tfidf_matrix)"
   ]
  },
  {
   "cell_type": "code",
   "execution_count": 15,
   "metadata": {},
   "outputs": [
    {
     "data": {
      "text/plain": [
       "array([[0.        , 0.        , 0.03660018, 0.26649462]])"
      ]
     },
     "execution_count": 15,
     "metadata": {},
     "output_type": "execute_result"
    }
   ],
   "source": [
    "cosine_similarities = cosine_similarity(tfidf_matrix[0:1], tfidf_matrix[1:])\n",
    "cosine_similarities"
   ]
  },
  {
   "cell_type": "code",
   "execution_count": 18,
   "metadata": {},
   "outputs": [
    {
     "data": {
      "text/plain": [
       "array([[0.25      , 0.5       , 0.53660018, 0.76649462]])"
      ]
     },
     "execution_count": 18,
     "metadata": {},
     "output_type": "execute_result"
    }
   ],
   "source": [
    "# some way of combining the category + tfidf methods to make a composite score?\n",
    "pcts + cosine_similarities"
   ]
  },
  {
   "cell_type": "code",
   "execution_count": 22,
   "metadata": {},
   "outputs": [
    {
     "data": {
      "text/plain": [
       "array([[0.2       , 0.4       , 0.40732004, 0.45329892]])"
      ]
     },
     "execution_count": 22,
     "metadata": {},
     "output_type": "execute_result"
    }
   ],
   "source": [
    "# think I'd like to weigh the intersection scores more\n",
    "intersection_weight = 0.8\n",
    "cosine_weight = 0.2\n",
    "\n",
    "(np.asarray(intersection_weight) * pcts) + (np.asarray(cosine_weight) * cosine_similarities)"
   ]
  },
  {
   "cell_type": "code",
   "execution_count": 23,
   "metadata": {},
   "outputs": [],
   "source": [
    "# yeah i'm chillin w that, too tired to think of anythng else rlly"
   ]
  },
  {
   "cell_type": "code",
   "execution_count": 25,
   "metadata": {},
   "outputs": [
    {
     "ename": "SyntaxError",
     "evalue": "invalid syntax (372171682.py, line 1)",
     "output_type": "error",
     "traceback": [
      "\u001b[0;36m  Cell \u001b[0;32mIn[25], line 1\u001b[0;36m\u001b[0m\n\u001b[0;31m    import ./rec_functions\u001b[0m\n\u001b[0m           ^\u001b[0m\n\u001b[0;31mSyntaxError\u001b[0m\u001b[0;31m:\u001b[0m invalid syntax\n"
     ]
    }
   ],
   "source": []
  },
  {
   "cell_type": "code",
   "execution_count": null,
   "metadata": {},
   "outputs": [],
   "source": []
  }
 ],
 "metadata": {
  "kernelspec": {
   "display_name": "base",
   "language": "python",
   "name": "python3"
  },
  "language_info": {
   "codemirror_mode": {
    "name": "ipython",
    "version": 3
   },
   "file_extension": ".py",
   "mimetype": "text/x-python",
   "name": "python",
   "nbconvert_exporter": "python",
   "pygments_lexer": "ipython3",
   "version": "3.11.5"
  }
 },
 "nbformat": 4,
 "nbformat_minor": 2
}
